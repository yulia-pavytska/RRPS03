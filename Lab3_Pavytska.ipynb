{
  "nbformat": 4,
  "nbformat_minor": 0,
  "metadata": {
    "colab": {
      "provenance": []
    },
    "kernelspec": {
      "name": "python3",
      "display_name": "Python 3"
    },
    "language_info": {
      "name": "python"
    }
  },
  "cells": [
    {
      "cell_type": "markdown",
      "source": [
        "Патерн **№1**"
      ],
      "metadata": {
        "id": "4fOcCUjGD3f5"
      }
    },
    {
      "cell_type": "markdown",
      "source": [
        "**Singleton**"
      ],
      "metadata": {
        "id": "5pOMef2tD9ja"
      }
    },
    {
      "cell_type": "markdown",
      "source": [
        "Клас Singleton(створювальний патерн) використовує спеціальний метод __new__, який відповідає за створення нового об'єкта.\n",
        "Перевіряється, чи _instance вже існує, щоб уникнути створення більше одного екземпляра.\n",
        "Якщо _instance не існує, створюється новий об'єкт і зберігається в _instance.\n",
        "\n"
      ],
      "metadata": {
        "id": "HdGH4q_AEAYb"
      }
    },
    {
      "cell_type": "code",
      "execution_count": 2,
      "metadata": {
        "colab": {
          "base_uri": "https://localhost:8080/"
        },
        "id": "yAC4WKY_DQFx",
        "outputId": "f792f3c7-899f-40c7-d2c2-0cee2e04be61"
      },
      "outputs": [
        {
          "output_type": "stream",
          "name": "stdout",
          "text": [
            "True\n"
          ]
        }
      ],
      "source": [
        "class Singleton:# Оголошення класу singleton\n",
        "    _instance = None # Оголошення статичної змінної, початково вона встановлена як none(окли екземпляр ще не створено),ця змінна призначена для зберігання єдиного екземпляру класу singleton\n",
        "\n",
        "    def __new__(cls): # створення нового об'єкта,cls посилання на singletone, def використовується для визначення функцій або методів\n",
        "        if cls._instance is None:# тут перевірається чи інстанс вже створений чи ще ні, тобто перевіряється чи інстанс є none\n",
        "            cls._instance = super().__new__(cls)# якщо інстанс none, то тоді виконується метод new, тобто тут фактично створюється новий екземпляр. Super викликає реалізацію методу в базовому класі\n",
        "        return cls._instance# метод new повертає єдиний створений екземпляр класу. Якщо вже існує екземпляр, то він просто повертається замість створення нового.\n",
        "\n",
        "# Використання\n",
        "obj1 = Singleton()# Змінна 1\n",
        "obj2 = Singleton()# Змінна 2\n",
        "# Ці дві змінні призначені для отриманні екземпляра класу singleton, але в даній реалізації ці змінні будуть вказувати на один і той же об'єкт\n",
        "print(obj1 is obj2)  # True підтверджує, що obj1 і obj2 є одним і тим самим екземпляром класу singleton.Is використовується для того щоб перевірити чи дві змінні вказують на один і той же об'єкт\n",
        "\n"
      ]
    },
    {
      "cell_type": "markdown",
      "source": [
        "**Патерн №2**"
      ],
      "metadata": {
        "id": "pfDt-fn8HPuL"
      }
    },
    {
      "cell_type": "markdown",
      "source": [
        "**Factory**"
      ],
      "metadata": {
        "id": "bL4jx55VHRzd"
      }
    },
    {
      "cell_type": "markdown",
      "source": [
        "Це створювальний патерн. Його основна мета полягає в тому, щоб визначити інтерфейс для створення об'єкта, але дозволити підкласам вирішувати, який клас інстанціювати. Таким чином, патерн Factory Method делегує відповідальність за створення екземплярів класів підкласам."
      ],
      "metadata": {
        "id": "05hquiB0IuRz"
      }
    },
    {
      "cell_type": "code",
      "source": [
        "import copy # глибоке та поверхневе копіювання об'єктів і його треба імпортувати перед використанням\n",
        "class Prototype:#оголошення класу prototype. Цей клас дозволяє створювати нові обєкти шляхом клонування екземплярів цього класу\n",
        "    def __init__(self, value):#конструктор класту prototype, викликається коли створюється новий екземпляр класу. Self тут є посиланням на поточний об'єкт і він дозволяє доступатись до його методів та атрибутів.\n",
        "       #value тут є параметром який передається при створенні екземпляру класу і який використовується для ініцілізації атрибудуту \"value\" обєкта\n",
        "        self.value = value#тут присвоюється значення параметру \"value\" атрибуту \"value\" поточного екземпляра обєкта. І це дозволяє зберігати значення в обєкті\n",
        "\n",
        "    def clone(self):#cLONE метод використовується для створення глибокої копії поточного об'єкта. Self вказує на екземпляр об'єкта, для якого потрібно створити клон\n",
        "        return copy.deepcopy(self)#виконує глибоке копіювання об'єкта self, що означає створення повністю незалежної копії об'єкта включно з копіюванням усіх вкладених об'єктів. Результат повертається викликачу.\n",
        "\n",
        "# Використання\n",
        "proto = Prototype(\"original\")#Створення нового екземпляра класу Prototype з ініціалізаційним значенням original. Змінна proto використовується для збереження посилання на цей об'єкт\n",
        "clone = proto.clone()#Виклик методу clone для екземпляра proto, що результує в створенні глибокої копії proto. Копія зберігається в змінній clone\n",
        "#Вивід значень атрибутів value обох об'єктів (proto та clone) на екран\n",
        "#clone є глибокою копією proto, обидва виведуть \"original\", підтверджуючи, що clone є точною копією proto і вони мають однакові значення в своїх атрибутах value, але є незалежними об'єктами\n",
        "print(proto.value)  # Виведе: original\n",
        "print(clone.value)  # Виведе: original\n",
        "\n"
      ],
      "metadata": {
        "colab": {
          "base_uri": "https://localhost:8080/"
        },
        "id": "3XL7ye1SJ3sr",
        "outputId": "56358218-30d6-4197-cc84-a20344cef163"
      },
      "execution_count": 7,
      "outputs": [
        {
          "output_type": "stream",
          "name": "stdout",
          "text": [
            "original\n",
            "original\n"
          ]
        }
      ]
    },
    {
      "cell_type": "markdown",
      "source": [
        "Патерн **№3**"
      ],
      "metadata": {
        "id": "BOBjPXd7OaqD"
      }
    },
    {
      "cell_type": "markdown",
      "source": [
        "**Adapter**"
      ],
      "metadata": {
        "id": "I_P0DxV9Oc6E"
      }
    },
    {
      "cell_type": "markdown",
      "source": [
        "Структурний патерн. Дозволяє об'єктам з несумісними інтерфейсами працювати разом. Він діє як міст між двома різними інтерфейсами, перетворюючи інтерфейс одного класу на інтерфейс, який очікує клієнт."
      ],
      "metadata": {
        "id": "KPTdxCwROdZC"
      }
    },
    {
      "cell_type": "code",
      "source": [
        "class OldComponent:#Оголошення класу OldComponent, який в даному випадку виступає як \"адаптований\" клас із своїм унікальним інтерфейсом\n",
        "    def specific_request(self):#Метод specific_request у класі OldComponent, який є специфічним для цього класу і представляє певну поведінку (функціонал)\n",
        "        return \"Old component specific behavior\"#цей метод повертає рядок, що описує поведінку старого компоненту.\n",
        "\n",
        "class NewComponent:#Оголошення нового класу NewComponent, який має інтерфейс, бажаний для використання у нашому застосунку.\n",
        "    def request(self):#Метод request, що реалізується в NewComponent і служить для показу стандартної поведінки нового компоненту.\n",
        "        return \"New component behavior\"#Метод повертає рядок, який описує поведінку нового компоненту.\n",
        "\n",
        "class Adapter(NewComponent, OldComponent):#Оголошення класу Adapter, який успадковує як NewComponent, так і OldComponent. Це приклад класового адаптера, де адаптер наслідує інтерфейси обох компонентів.\n",
        "    def request(self):#Метод request в класі Adapter, який перевизначає метод request з NewComponent\n",
        "        return self.specific_request()#Цей метод викликає метод specific_request() від OldComponent. Це реалізує адаптацію, дозволяючи Adapter використовувати поведінку старого компоненту під маскою інтерфейсу нового компоненту.\n",
        "\n",
        "# Використання\n",
        "old = OldComponent()#Створюється екземпляр old класу OldComponent\n",
        "print(old.specific_request())#Виводиться результат виклику методу specific_request() для old, що є \"Old component specific behavior\"\n",
        "\n",
        "adapter = Adapter()#Створюється екземпляр adapter класу Adapter\n",
        "print(adapter.request())#Виводиться результат виклику методу request() для adapter, що демонструє, як адаптер перенаправляє виклик до методу старого компоненту (specific_request()), забезпечуючи сумісність інтерфейсів\n",
        "#Таким чином тут показано як можна використовувати патерн  для того, щоб інтегрувати старі компоненти з новими системами без необхідності змінювати їхній код"
      ],
      "metadata": {
        "colab": {
          "base_uri": "https://localhost:8080/"
        },
        "id": "Jw7x9q52OrsQ",
        "outputId": "4654c5d3-fb63-4449-c8ea-de2cfeb0013d"
      },
      "execution_count": 8,
      "outputs": [
        {
          "output_type": "stream",
          "name": "stdout",
          "text": [
            "Old component specific behavior\n",
            "Old component specific behavior\n"
          ]
        }
      ]
    },
    {
      "cell_type": "markdown",
      "source": [
        "Патерн **№4**"
      ],
      "metadata": {
        "id": "smLu7S5gRY5_"
      }
    },
    {
      "cell_type": "markdown",
      "source": [
        "**Proxy**"
      ],
      "metadata": {
        "id": "H4Fn0ZbARdRZ"
      }
    },
    {
      "cell_type": "markdown",
      "source": [
        "Патерн використовується для контролю доступу до іншого об'єкта, відкладеного створення об'єктів або ведення логу доступу до них. Цей патерн дозволяє \"обгорнути\" реальний об'єкт з проксі-об'єктом, який може перехоплювати виклики до реального об'єкта, дозволяючи виконувати додаткові дії перед або після переспрямування виклику до реального об'єкта. Забезпечує замінник або запобіжник для іншого об'єкта для контролю доступу до нього, наприклад, для затримки повного завантаження великого об'єкту"
      ],
      "metadata": {
        "id": "hk5p2IgdRt-8"
      }
    },
    {
      "cell_type": "code",
      "source": [
        "class HeavyObject:#клас, що представляє \"важкий\" об'єкт, який використовує багато ресурсів при створенні.\n",
        "    def __init__(self):#конструктор цього класу, який викликається при створенні нового екземпляра HeavyObject\n",
        "        self.data = \"Some very heavy data that takes a lot of memory\"#ініціалізується атрибут data екземпляра, який містить рядок. Цей рядок символізує велику кількість даних, яка потрібна об'єкту\n",
        "\n",
        "    def get_data(self):# метод get_data в класі HeavyObject, який просто повертає значення атрибута data об'єкта.\n",
        "        return self.data\n",
        "\n",
        "class Proxy:#клас проксі, який використовується для контролю доступу до інстансу класу HeavyObject\n",
        "    def __init__(self):#конструктор класу Proxy. Він ініціалізує атрибут _heavy_object як None. Це означає, що на початку HeavyObject ще не створений\n",
        "        self._heavy_object = None\n",
        "\n",
        "    def get_data(self):#метод get_data класу Proxy, який управляє доступом до HeavyObject. Цей метод перевіряє, чи вже існує екземпляр HeavyObject\n",
        "        if not self._heavy_object:#якщо _heavy_object ще не існує (тобто є None), то self._heavy_object = HeavyObject() - ...створюється новий екземпляр HeavyObject і присвоюється _heavy_object\n",
        "            self._heavy_object = HeavyObject()\n",
        "        return self._heavy_object.get_data()#метод повертає дані з HeavyObject, викликаючи його метод get_data\n",
        "\n",
        "# Використання\n",
        "proxy = Proxy()# створення екземпляра класу Proxy\n",
        "print(proxy.get_data())#ивід в консоль даних, отриманих через проксі. Це демонструє, як проксі-клас ліниво ініціалізує важкий об'єкт, тільки коли до нього вперше звертаються за допомогою методу get_data"
      ],
      "metadata": {
        "colab": {
          "base_uri": "https://localhost:8080/"
        },
        "id": "kXIWx6gMSCxm",
        "outputId": "87f7d226-0ddb-4508-ff37-df15422d9e56"
      },
      "execution_count": 9,
      "outputs": [
        {
          "output_type": "stream",
          "name": "stdout",
          "text": [
            "Some very heavy data that takes a lot of memory\n"
          ]
        }
      ]
    },
    {
      "cell_type": "markdown",
      "source": [
        "**Патерн №5**"
      ],
      "metadata": {
        "id": "EiOSzu9XRa7a"
      }
    },
    {
      "cell_type": "markdown",
      "source": [
        "**Composite**"
      ],
      "metadata": {
        "id": "z5PKGYncTvNM"
      }
    },
    {
      "cell_type": "markdown",
      "source": [
        " Структурний патерн. Дозволєя лієнтам використовувати індивідуальні об'єкти та композиції об'єктів однаково."
      ],
      "metadata": {
        "id": "fENBR_bkTwd6"
      }
    },
    {
      "cell_type": "code",
      "source": [
        "class Component:#дозволяє уніфікувати інтерфейс між різними типами компонентів. Базовий клас або інтерфейс для всіх компонентів, як простих (Leaf), так і складних (Composite)\n",
        "    def operation(self):#Оголошення методу, який потрібно буде реалізувати у похідних класах. Це базова операція, яку можуть виконувати як листки, так і контейнери\n",
        "        pass#просто заповнювач\n",
        "\n",
        "class Leaf(Component):#Клас Leaf є похідним від Component і представляє листові вузли структури, тобто ті, що не мають дочірніх вузлів.\n",
        "    def operation(self):#Перевизначення методу operation() для класу Leaf. В листових вузлах цей метод виконує конкретну операцію\n",
        "        return \"Leaf\"#Повертає рядок \"Leaf\", який є результатом операції в листовому компоненті\n",
        "\n",
        "class Composite(Component):#Клас Composite також є нащадком Component і представляє компонент, який може містити інші компоненти\n",
        "    def __init__(self):#Конструктор класу Composite. Це метод, що викликається при створенні об'єкта цього класу\n",
        "        self.children = []#Ініціалізація порожнього списку, який буде зберігати дочірні компоненти\n",
        "\n",
        "    def add(self, component):#Метод для додавання нового компонента до складових дочірніх компонентів\n",
        "        self.children.append(component)#Додає переданий компонент до списку дочірніх компонентів\n",
        "\n",
        "    def operation(self):#Перевизначення методу operation(), що викликається для виконання операцій над усіма дочірніми компонентами\n",
        "        results = []#Створення порожнього списку для збереження результатів виконання операцій дочірніх компонентів\n",
        "        for child in self.children:#Цикл, який проходить по всім дочірнім компонентам\n",
        "            results.append(child.operation())#Виклик методу operation() для кожного дочірнього компонента і додавання його результату до списку results\n",
        "        return \"+\".join(results)#Об'єднує всі рядки в списку results, розділяючи їх символом \"+\", і повертає цей рядок як результат виконання операції композитного компонента\n",
        "\n",
        "# Використання\n",
        "leaf1 = Leaf()#Створюється об'єкт leaf1, який є екземпляром класу Leaf. Клас Leaf наслідує базовий інтерфейс від класу Component і реалізує метод operation(), який повертає рядок \"Leaf\". Об'єкт leaf1 представляє листок дерева або компонент у композитній структурі, який не може містити інших компонентів\n",
        "composite = Composite()#Створюється об'єкт composite, який є екземпляром класу Composite. Клас Composite також наслідує від Component і має змогу містити інші компоненти. У ньому є список children, який використовується для зберігання дочірніх компонентів\n",
        "composite.add(leaf1)#Цей рядок додає вже створений лист leaf1 до складу дочірніх компонентів composite. Метод add компоненту composite викликає метод append для списку children, щоб додати туди об'єкт leaf1\n",
        "composite.add(Leaf())#Створюється новий екземпляр класу Leaf прямо в момент виклику методу add. Цей новий лист теж додається до списку дочірніх компонентів composite\n",
        "print(composite.operation())  # Викликається метод operation() для об'єкту composite. Цей метод ітерує через всі дочірні компоненти у списку children, викликає метод operation() для кожного з них, збирає результати в список results, а потім об'єднує всі отримані рядки у один, використовуючи символ \"+\". У цьому випадку, оскільки до composite було додано два листа, результат буде \"Leaf+Leaf\"\n"
      ],
      "metadata": {
        "colab": {
          "base_uri": "https://localhost:8080/"
        },
        "id": "DRA9tlf_T4gE",
        "outputId": "b4cea652-7327-40a6-af5d-eb5ead3e91d3"
      },
      "execution_count": 10,
      "outputs": [
        {
          "output_type": "stream",
          "name": "stdout",
          "text": [
            "Leaf+Leaf\n"
          ]
        }
      ]
    }
  ]
}